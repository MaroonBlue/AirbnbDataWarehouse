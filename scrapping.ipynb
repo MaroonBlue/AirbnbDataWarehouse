{
 "cells": [
  {
   "cell_type": "code",
   "execution_count": 1,
   "metadata": {},
   "outputs": [],
   "source": [
    "import csv\n",
    "import requests\n",
    "import os\n",
    "import gzip\n",
    "import shutil\n",
    "from urllib.request import urlopen\n",
    "from bs4 import BeautifulSoup"
   ]
  },
  {
   "cell_type": "code",
   "execution_count": 2,
   "metadata": {},
   "outputs": [],
   "source": [
    "countries= [\"Spain\",\"Italy\", \"Portugal\"]"
   ]
  },
  {
   "cell_type": "code",
   "execution_count": 3,
   "metadata": {},
   "outputs": [],
   "source": [
    "url=\"http://insideairbnb.com/get-the-data.html\"\n",
    "html=urlopen(url)\n",
    "soup=BeautifulSoup(html, \"html.parser\")    "
   ]
  },
  {
   "cell_type": "markdown",
   "metadata": {},
   "source": [
    "## Check city names to download"
   ]
  },
  {
   "cell_type": "code",
   "execution_count": 4,
   "metadata": {},
   "outputs": [
    {
     "output_type": "stream",
     "name": "stdout",
     "text": [
      "Barcelona, Catalonia, Spain\nBergamo, Lombardia, Italy\nBologna, Emilia-Romagna, Italy\nEuskadi, Euskadi, Spain\nFlorence, Toscana, Italy\nGirona, Catalonia, Spain\nLisbon, Lisbon, Portugal\nMadrid, Comunidad de Madrid, Spain\nMalaga, Andalucía, Spain\nMallorca, Islas Baleares, Spain\nMenorca, Islas Baleares, Spain\nMilan, Lombardy, Italy\nNaples, Campania, Italy\nPorto, Norte, Portugal\nPuglia, Puglia, Italy\nRome, Lazio, Italy\nSevilla, Andalucía, Spain\nSicily, Sicilia, Italy\nTrentino, Trentino-Alto Adige/Südtirol, Italy\nValencia, Valencia, Spain\nVenice, Veneto, Italy\n"
     ]
    }
   ],
   "source": [
    "for item in soup.find_all('h2'):\n",
    "    string=item.get_text()\n",
    "    split_string=string.split(\", \")\n",
    "    country=split_string[-1]\n",
    "    if country in countries:\n",
    "        print(string)"
   ]
  },
  {
   "cell_type": "markdown",
   "metadata": {},
   "source": [
    "## Download .csv.gz files to airbnb_gz"
   ]
  },
  {
   "cell_type": "code",
   "execution_count": 5,
   "metadata": {},
   "outputs": [],
   "source": [
    "os.mkdir('airbnb_gz')"
   ]
  },
  {
   "cell_type": "code",
   "execution_count": 6,
   "metadata": {},
   "outputs": [],
   "source": [
    "for item in soup.find_all('h2'):\n",
    "    string=item.get_text()\n",
    "    if string=='Trentino, Trentino-Alto Adige/Südtirol, Italy':\n",
    "        string='Trentino, Trentino, Italy'\n",
    "    if string=='Euskadi, Euskadi, Spain':\n",
    "        string='Basque Country, Basque Country, Spain'\n",
    "    if string=='Milan, Lombardy, Italy':\n",
    "        string='Milan, Lombardia, Italy'\n",
    "    split_string=string.split(', ')\n",
    "    country=split_string[-1]\n",
    "    if country in countries:\n",
    "        table=item.nextSibling.nextSibling.nextSibling.nextSibling\n",
    "        #print(table.get('class', []))\n",
    "        #print(type(table))\n",
    "        listing_url=table.contents[3].contents[1].contents[5].contents[0]['href']\n",
    "        filename=f'airbnb_gz\\{string}.csv.gz'\n",
    "\n",
    "        with open(filename, \"wb\") as f:\n",
    "            r = requests.get(listing_url)\n",
    "            f.write(r.content)"
   ]
  },
  {
   "cell_type": "markdown",
   "metadata": {},
   "source": [
    "## Unpack .gz to .csv in airbnb_csv"
   ]
  },
  {
   "cell_type": "code",
   "execution_count": 7,
   "metadata": {},
   "outputs": [],
   "source": [
    "os.mkdir('airbnb_csv')"
   ]
  },
  {
   "cell_type": "code",
   "execution_count": 8,
   "metadata": {},
   "outputs": [],
   "source": [
    "for filename in os.listdir('airbnb_gz'):\n",
    "    with gzip.open(f'airbnb_gz\\{filename}', 'rb') as f_in:\n",
    "        new_filename=f'airbnb_csv\\{filename[0:-3]}'\n",
    "        with open(new_filename, 'wb') as f_out:\n",
    "            shutil.copyfileobj(f_in, f_out)"
   ]
  }
 ],
 "metadata": {
  "kernelspec": {
   "name": "python385jvsc74a57bd0fc9e72fd9f951a6cbecd9bf865f3bac8efd59c3220fe970542c68dfc833ea597",
   "display_name": "Python 3.8.5 64-bit ('env_miowad': conda)"
  },
  "language_info": {
   "codemirror_mode": {
    "name": "ipython",
    "version": 3
   },
   "file_extension": ".py",
   "mimetype": "text/x-python",
   "name": "python",
   "nbconvert_exporter": "python",
   "pygments_lexer": "ipython3",
   "version": "3.8.5"
  }
 },
 "nbformat": 4,
 "nbformat_minor": 4
}