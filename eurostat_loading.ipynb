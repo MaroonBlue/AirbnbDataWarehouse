{
 "cells": [
  {
   "cell_type": "markdown",
   "metadata": {},
   "source": [
    "## Eurostat data"
   ]
  },
  {
   "cell_type": "code",
   "execution_count": 1,
   "metadata": {},
   "outputs": [],
   "source": [
    "import pandas as pd\n",
    "import numpy as np\n",
    "import seaborn as sns\n",
    "import matplotlib.pyplot as plt\n",
    "import pyodbc\n",
    "import pycountry\n",
    "pd.set_option('display.max_columns', None)"
   ]
  },
  {
   "cell_type": "markdown",
   "metadata": {},
   "source": [
    "### Arrivals"
   ]
  },
  {
   "cell_type": "code",
   "execution_count": 2,
   "metadata": {},
   "outputs": [],
   "source": [
    "df_arrivals = pd.read_excel('./eurostat/TOUR_OCC_ARN2$DEFAULTVIEW1621782256780.xlsx', 'Sheet 5', skiprows=9, nrows=494)"
   ]
  },
  {
   "cell_type": "code",
   "execution_count": 3,
   "metadata": {},
   "outputs": [],
   "source": [
    "df_arrivals.drop(0, axis=0, inplace=True)\n",
    "cols = [c for c in df_arrivals.columns if c[:7] == 'Unnamed']\n",
    "df_arrivals.drop(cols, axis=1, inplace=True)"
   ]
  },
  {
   "cell_type": "code",
   "execution_count": 4,
   "metadata": {},
   "outputs": [],
   "source": [
    "df_arrivals = df_arrivals.rename(columns = {'TIME' : 'Region'})"
   ]
  },
  {
   "cell_type": "code",
   "execution_count": 5,
   "metadata": {},
   "outputs": [
    {
     "output_type": "execute_result",
     "data": {
      "text/plain": [
       "                                              Region       2015       2016  \\\n",
       "1          European Union - 27 countries (from 2020)  842094674  876845557   \n",
       "2          European Union - 28 countries (2013-2020)  966504943  998886631   \n",
       "3          European Union - 27 countries (2007-2013)  952347917  983440040   \n",
       "4  Euro area (EA11-1999, EA12-2001, EA13-2007, EA...  721488022  746546450   \n",
       "5                                            Belgium   15846926   15210781   \n",
       "\n",
       "         2017        2018        2019  \n",
       "1   928554906   963481864   999794950  \n",
       "2  1059809056  1097315026  1140645513  \n",
       "3  1042399119  1078666089  1121092018  \n",
       "4   789630697   817254588   847478736  \n",
       "5    16319257    17559915    18057611  "
      ],
      "text/html": "<div>\n<style scoped>\n    .dataframe tbody tr th:only-of-type {\n        vertical-align: middle;\n    }\n\n    .dataframe tbody tr th {\n        vertical-align: top;\n    }\n\n    .dataframe thead th {\n        text-align: right;\n    }\n</style>\n<table border=\"1\" class=\"dataframe\">\n  <thead>\n    <tr style=\"text-align: right;\">\n      <th></th>\n      <th>Region</th>\n      <th>2015</th>\n      <th>2016</th>\n      <th>2017</th>\n      <th>2018</th>\n      <th>2019</th>\n    </tr>\n  </thead>\n  <tbody>\n    <tr>\n      <th>1</th>\n      <td>European Union - 27 countries (from 2020)</td>\n      <td>842094674</td>\n      <td>876845557</td>\n      <td>928554906</td>\n      <td>963481864</td>\n      <td>999794950</td>\n    </tr>\n    <tr>\n      <th>2</th>\n      <td>European Union - 28 countries (2013-2020)</td>\n      <td>966504943</td>\n      <td>998886631</td>\n      <td>1059809056</td>\n      <td>1097315026</td>\n      <td>1140645513</td>\n    </tr>\n    <tr>\n      <th>3</th>\n      <td>European Union - 27 countries (2007-2013)</td>\n      <td>952347917</td>\n      <td>983440040</td>\n      <td>1042399119</td>\n      <td>1078666089</td>\n      <td>1121092018</td>\n    </tr>\n    <tr>\n      <th>4</th>\n      <td>Euro area (EA11-1999, EA12-2001, EA13-2007, EA...</td>\n      <td>721488022</td>\n      <td>746546450</td>\n      <td>789630697</td>\n      <td>817254588</td>\n      <td>847478736</td>\n    </tr>\n    <tr>\n      <th>5</th>\n      <td>Belgium</td>\n      <td>15846926</td>\n      <td>15210781</td>\n      <td>16319257</td>\n      <td>17559915</td>\n      <td>18057611</td>\n    </tr>\n  </tbody>\n</table>\n</div>"
     },
     "metadata": {},
     "execution_count": 5
    }
   ],
   "source": [
    "df_arrivals.head()"
   ]
  },
  {
   "cell_type": "markdown",
   "metadata": {},
   "source": [
    "### Establishments"
   ]
  },
  {
   "cell_type": "code",
   "execution_count": 6,
   "metadata": {},
   "outputs": [],
   "source": [
    "df_establishments = pd.read_excel('./eurostat/TOUR_CAP_NUTS2$DEFAULTVIEW1622395990444.xlsx', 'Sheet 1', skiprows=9, nrows=499) # unit of measure - number"
   ]
  },
  {
   "cell_type": "code",
   "execution_count": 7,
   "metadata": {},
   "outputs": [],
   "source": [
    "df_establishments.drop(0, axis=0, inplace=True)\n",
    "cols = [c for c in df_establishments.columns if c[:7] == 'Unnamed']\n",
    "df_establishments.drop(cols, axis=1, inplace=True)\n",
    "df_establishments.drop('2020', axis=1, inplace=True)"
   ]
  },
  {
   "cell_type": "code",
   "execution_count": 8,
   "metadata": {},
   "outputs": [],
   "source": [
    "df_establishments = df_establishments.rename(columns = {'TIME' : 'Region'})"
   ]
  },
  {
   "cell_type": "code",
   "execution_count": 9,
   "metadata": {},
   "outputs": [
    {
     "output_type": "execute_result",
     "data": {
      "text/plain": [
       "                                              Region    2016    2017    2018  \\\n",
       "1          European Union - 27 countries (from 2020)  524752  571674  600499   \n",
       "2          European Union - 28 countries (2013-2020)  609332  663863  697311   \n",
       "3          European Union - 27 countries (2007-2013)  526099  565522  589099   \n",
       "4  Euro area (EA11-1999, EA12-2001, EA13-2007, EA...  401724  432691  450604   \n",
       "5                                            Belgium    8210    8570    9211   \n",
       "\n",
       "     2019  \n",
       "1  617953  \n",
       "2  717555  \n",
       "3  603794  \n",
       "4  461693  \n",
       "5    9651  "
      ],
      "text/html": "<div>\n<style scoped>\n    .dataframe tbody tr th:only-of-type {\n        vertical-align: middle;\n    }\n\n    .dataframe tbody tr th {\n        vertical-align: top;\n    }\n\n    .dataframe thead th {\n        text-align: right;\n    }\n</style>\n<table border=\"1\" class=\"dataframe\">\n  <thead>\n    <tr style=\"text-align: right;\">\n      <th></th>\n      <th>Region</th>\n      <th>2016</th>\n      <th>2017</th>\n      <th>2018</th>\n      <th>2019</th>\n    </tr>\n  </thead>\n  <tbody>\n    <tr>\n      <th>1</th>\n      <td>European Union - 27 countries (from 2020)</td>\n      <td>524752</td>\n      <td>571674</td>\n      <td>600499</td>\n      <td>617953</td>\n    </tr>\n    <tr>\n      <th>2</th>\n      <td>European Union - 28 countries (2013-2020)</td>\n      <td>609332</td>\n      <td>663863</td>\n      <td>697311</td>\n      <td>717555</td>\n    </tr>\n    <tr>\n      <th>3</th>\n      <td>European Union - 27 countries (2007-2013)</td>\n      <td>526099</td>\n      <td>565522</td>\n      <td>589099</td>\n      <td>603794</td>\n    </tr>\n    <tr>\n      <th>4</th>\n      <td>Euro area (EA11-1999, EA12-2001, EA13-2007, EA...</td>\n      <td>401724</td>\n      <td>432691</td>\n      <td>450604</td>\n      <td>461693</td>\n    </tr>\n    <tr>\n      <th>5</th>\n      <td>Belgium</td>\n      <td>8210</td>\n      <td>8570</td>\n      <td>9211</td>\n      <td>9651</td>\n    </tr>\n  </tbody>\n</table>\n</div>"
     },
     "metadata": {},
     "execution_count": 9
    }
   ],
   "source": [
    "df_establishments.head()"
   ]
  },
  {
   "cell_type": "markdown",
   "metadata": {},
   "source": [
    "### Air transport"
   ]
  },
  {
   "cell_type": "code",
   "execution_count": 10,
   "metadata": {},
   "outputs": [],
   "source": [
    "df_airtransport = pd.read_excel('./eurostat/TRAN_R_AVPA_NM$DEFAULTVIEW1622396128371.xlsx', 'Sheet 1', skiprows=8, nrows=353) # unit of measure - thousand"
   ]
  },
  {
   "cell_type": "code",
   "execution_count": 11,
   "metadata": {},
   "outputs": [],
   "source": [
    "df_airtransport.drop(0, axis=0, inplace=True)\n",
    "cols = [c for c in df_airtransport.columns if c[:7] == 'Unnamed']\n",
    "df_airtransport.drop(cols, axis=1, inplace=True)"
   ]
  },
  {
   "cell_type": "code",
   "execution_count": 12,
   "metadata": {},
   "outputs": [],
   "source": [
    "df_airtransport = df_airtransport.rename(columns = {'TIME' : 'Code', 'TIME.1' : 'Region'})"
   ]
  },
  {
   "cell_type": "code",
   "execution_count": 13,
   "metadata": {},
   "outputs": [
    {
     "output_type": "execute_result",
     "data": {
      "text/plain": [
       "   Code                 Region   2015   2016   2017   2018   2019\n",
       "1    BE                Belgium  30955  30114  33259  34506  35384\n",
       "2   BE2          Vlaams Gewest  23722  22448  25384  26326  27021\n",
       "3  BE21        Prov. Antwerpen    195    257    255    282    290\n",
       "4  BE24   Prov. Vlaams-Brabant  23269  21769  24776  25637  26287\n",
       "5  BE25  Prov. West-Vlaanderen    260    423    354    407    445"
      ],
      "text/html": "<div>\n<style scoped>\n    .dataframe tbody tr th:only-of-type {\n        vertical-align: middle;\n    }\n\n    .dataframe tbody tr th {\n        vertical-align: top;\n    }\n\n    .dataframe thead th {\n        text-align: right;\n    }\n</style>\n<table border=\"1\" class=\"dataframe\">\n  <thead>\n    <tr style=\"text-align: right;\">\n      <th></th>\n      <th>Code</th>\n      <th>Region</th>\n      <th>2015</th>\n      <th>2016</th>\n      <th>2017</th>\n      <th>2018</th>\n      <th>2019</th>\n    </tr>\n  </thead>\n  <tbody>\n    <tr>\n      <th>1</th>\n      <td>BE</td>\n      <td>Belgium</td>\n      <td>30955</td>\n      <td>30114</td>\n      <td>33259</td>\n      <td>34506</td>\n      <td>35384</td>\n    </tr>\n    <tr>\n      <th>2</th>\n      <td>BE2</td>\n      <td>Vlaams Gewest</td>\n      <td>23722</td>\n      <td>22448</td>\n      <td>25384</td>\n      <td>26326</td>\n      <td>27021</td>\n    </tr>\n    <tr>\n      <th>3</th>\n      <td>BE21</td>\n      <td>Prov. Antwerpen</td>\n      <td>195</td>\n      <td>257</td>\n      <td>255</td>\n      <td>282</td>\n      <td>290</td>\n    </tr>\n    <tr>\n      <th>4</th>\n      <td>BE24</td>\n      <td>Prov. Vlaams-Brabant</td>\n      <td>23269</td>\n      <td>21769</td>\n      <td>24776</td>\n      <td>25637</td>\n      <td>26287</td>\n    </tr>\n    <tr>\n      <th>5</th>\n      <td>BE25</td>\n      <td>Prov. West-Vlaanderen</td>\n      <td>260</td>\n      <td>423</td>\n      <td>354</td>\n      <td>407</td>\n      <td>445</td>\n    </tr>\n  </tbody>\n</table>\n</div>"
     },
     "metadata": {},
     "execution_count": 13
    }
   ],
   "source": [
    "df_airtransport.head()"
   ]
  },
  {
   "cell_type": "markdown",
   "metadata": {},
   "source": [
    "### Population"
   ]
  },
  {
   "cell_type": "code",
   "execution_count": 14,
   "metadata": {},
   "outputs": [],
   "source": [
    "df_population = pd.read_excel('./eurostat/DEMO_R_D2JAN$DEFAULTVIEW1622396054950.xlsx', 'Sheet 1', skiprows=9, nrows=507) # unit of measure - number"
   ]
  },
  {
   "cell_type": "code",
   "execution_count": 15,
   "metadata": {},
   "outputs": [],
   "source": [
    "df_population.drop(0, axis=0, inplace=True)\n",
    "cols = [c for c in df_population.columns if c[:7] == 'Unnamed']\n",
    "df_population.drop(cols, axis=1, inplace=True)"
   ]
  },
  {
   "cell_type": "code",
   "execution_count": 16,
   "metadata": {},
   "outputs": [],
   "source": [
    "df_population = df_population.rename(columns = {'TIME' : 'Code', 'TIME.1' : 'Region'})"
   ]
  },
  {
   "cell_type": "code",
   "execution_count": 17,
   "metadata": {},
   "outputs": [
    {
     "output_type": "execute_result",
     "data": {
      "text/plain": [
       "        Code                                             Region       2016  \\\n",
       "1  EU27_2020          European Union - 27 countries (from 2020)  444802830   \n",
       "2       EU28          European Union - 28 countries (2013-2020)  510181874   \n",
       "3  EU27_2007          European Union - 27 countries (2007-2013)  505991205   \n",
       "4         BE                                            Belgium   11311117   \n",
       "5        BE1  Région de Bruxelles-Capitale/Brussels Hoofdste...    1201285   \n",
       "\n",
       "        2017       2018       2019       2020  \n",
       "1  445534430  446208557  446446444  447319916  \n",
       "2  511378572  512372000  513093556          :  \n",
       "3  507224359  508266507  509017310          :  \n",
       "4   11351727   11398589   11455519   11522440  \n",
       "5    1199095    1205492    1215290    1223364  "
      ],
      "text/html": "<div>\n<style scoped>\n    .dataframe tbody tr th:only-of-type {\n        vertical-align: middle;\n    }\n\n    .dataframe tbody tr th {\n        vertical-align: top;\n    }\n\n    .dataframe thead th {\n        text-align: right;\n    }\n</style>\n<table border=\"1\" class=\"dataframe\">\n  <thead>\n    <tr style=\"text-align: right;\">\n      <th></th>\n      <th>Code</th>\n      <th>Region</th>\n      <th>2016</th>\n      <th>2017</th>\n      <th>2018</th>\n      <th>2019</th>\n      <th>2020</th>\n    </tr>\n  </thead>\n  <tbody>\n    <tr>\n      <th>1</th>\n      <td>EU27_2020</td>\n      <td>European Union - 27 countries (from 2020)</td>\n      <td>444802830</td>\n      <td>445534430</td>\n      <td>446208557</td>\n      <td>446446444</td>\n      <td>447319916</td>\n    </tr>\n    <tr>\n      <th>2</th>\n      <td>EU28</td>\n      <td>European Union - 28 countries (2013-2020)</td>\n      <td>510181874</td>\n      <td>511378572</td>\n      <td>512372000</td>\n      <td>513093556</td>\n      <td>:</td>\n    </tr>\n    <tr>\n      <th>3</th>\n      <td>EU27_2007</td>\n      <td>European Union - 27 countries (2007-2013)</td>\n      <td>505991205</td>\n      <td>507224359</td>\n      <td>508266507</td>\n      <td>509017310</td>\n      <td>:</td>\n    </tr>\n    <tr>\n      <th>4</th>\n      <td>BE</td>\n      <td>Belgium</td>\n      <td>11311117</td>\n      <td>11351727</td>\n      <td>11398589</td>\n      <td>11455519</td>\n      <td>11522440</td>\n    </tr>\n    <tr>\n      <th>5</th>\n      <td>BE1</td>\n      <td>Région de Bruxelles-Capitale/Brussels Hoofdste...</td>\n      <td>1201285</td>\n      <td>1199095</td>\n      <td>1205492</td>\n      <td>1215290</td>\n      <td>1223364</td>\n    </tr>\n  </tbody>\n</table>\n</div>"
     },
     "metadata": {},
     "execution_count": 17
    }
   ],
   "source": [
    "df_population.head()"
   ]
  },
  {
   "cell_type": "markdown",
   "metadata": {},
   "source": [
    "### Final df"
   ]
  },
  {
   "cell_type": "code",
   "execution_count": 18,
   "metadata": {},
   "outputs": [],
   "source": [
    "regions = [\"País Vasco\",\n",
    "\"Comunidad de Madrid\", \n",
    "\"Cataluña\",\n",
    "\"Comunitat Valenciana\", \n",
    "\"Illes Balears\", \n",
    "\"Andalucía\", \n",
    "\"Lombardia\",\n",
    "\"Provincia Autonoma di Bolzano/Bozen\",\n",
    "\"Provincia Autonoma di Trento\",\n",
    "\"Veneto\",\n",
    "\"Emilia-Romagna\",\n",
    "\"Toscana\",\n",
    "\"Lazio\",\n",
    "\"Campania\",\n",
    "\"Puglia\",\n",
    "\"Sicilia\",\n",
    "\"Norte\", \n",
    "\"Área Metropolitana de Lisboa\" ]"
   ]
  },
  {
   "cell_type": "code",
   "execution_count": 19,
   "metadata": {},
   "outputs": [],
   "source": [
    "# tylko potrzebne dane (2019) + usunięcie duplikatów\n",
    "df_arrivals = df_arrivals.loc[df_arrivals.Region.isin(regions), ['Region', '2019']].drop_duplicates()\n",
    "df_establishments = df_establishments.loc[df_establishments.Region.isin(regions), ['Region', '2019']].drop_duplicates()\n",
    "df_airtransport = df_airtransport.loc[df_airtransport.Region.isin(regions), ['Code', 'Region', '2019']].drop_duplicates()\n",
    "df_population = df_population.loc[df_population.Region.isin(regions), ['Code', 'Region', '2019']].drop_duplicates()"
   ]
  },
  {
   "cell_type": "code",
   "execution_count": 20,
   "metadata": {},
   "outputs": [],
   "source": [
    "# łączenie wszystkich ramek\n",
    "df_1 = pd.merge(df_arrivals, df_establishments, how='inner', on='Region', suffixes=('_arr', '_est'))\n",
    "df_2 = pd.merge(df_airtransport, df_population, how='right', on=['Code', 'Region'], suffixes=('_air', '_pop'))\n",
    "df_final = pd.merge(df_1, df_2, how='left', on='Region')"
   ]
  },
  {
   "cell_type": "code",
   "execution_count": 21,
   "metadata": {},
   "outputs": [],
   "source": [
    "df_final = df_final.loc[:,['Code', 'Region', '2019_arr', '2019_est', '2019_air', '2019_pop']]\n",
    "df_final = df_final.query('Code != \"ES3\"').reset_index(drop=True)"
   ]
  },
  {
   "cell_type": "code",
   "execution_count": 22,
   "metadata": {},
   "outputs": [
    {
     "output_type": "stream",
     "name": "stdout",
     "text": [
      "<class 'pandas.core.frame.DataFrame'>\nRangeIndex: 18 entries, 0 to 17\nData columns (total 6 columns):\n #   Column    Non-Null Count  Dtype \n---  ------    --------------  ----- \n 0   Code      18 non-null     object\n 1   Region    18 non-null     object\n 2   2019_arr  18 non-null     object\n 3   2019_est  18 non-null     object\n 4   2019_air  16 non-null     object\n 5   2019_pop  18 non-null     object\ndtypes: object(6)\nmemory usage: 992.0+ bytes\n"
     ]
    }
   ],
   "source": [
    "df_final.info()"
   ]
  },
  {
   "cell_type": "code",
   "execution_count": 23,
   "metadata": {},
   "outputs": [],
   "source": [
    "# zsumowanie danych dla regionu Trentino\n",
    "df_final.iloc[df_final.Code == 'ITH2', 2:6] = df_final.values[7:9, 2:6].sum(axis=0)\n",
    "df_final = df_final.drop(7, axis=0).reset_index(drop=True)"
   ]
  },
  {
   "cell_type": "code",
   "execution_count": 24,
   "metadata": {},
   "outputs": [],
   "source": [
    "# zmiana typów zmiennych\n",
    "cols = df_final.columns[2:]\n",
    "for col in cols:\n",
    "    if col != '2019_air':\n",
    "        df_final[col] = df_final[col].astype(int)\n",
    "    if col == '2019_air':\n",
    "        df_final[col] = df_final[col].astype(float)\n"
   ]
  },
  {
   "cell_type": "code",
   "execution_count": 25,
   "metadata": {},
   "outputs": [],
   "source": [
    "# uwzględnienie jednostki w AirTransport\n",
    "df_final['2019_air'] = df_final['2019_air']*1000"
   ]
  },
  {
   "cell_type": "code",
   "execution_count": 26,
   "metadata": {},
   "outputs": [],
   "source": [
    "# zmiana nazw kolumn\n",
    "df_final = df_final.rename(columns = {'Code' : 'RegionCode', '2019_arr' : 'TouristArrivals',\n",
    "                                        '2019_est' : 'TouristEstablishments', '2019_air' :                                                      'AirPassengers', '2019_pop' : 'Population'})"
   ]
  },
  {
   "cell_type": "code",
   "execution_count": 27,
   "metadata": {},
   "outputs": [],
   "source": [
    "# dodanie kolumny countrycode i country\n",
    "df_final['CountryCode'] = df_final.RegionCode.str.slice(0,2)\n",
    "for i, val in df_final.iterrows():\n",
    "    country = pycountry.countries.get(alpha_2=df_final.loc[i, 'CountryCode'])\n",
    "    df_final.loc[i, 'Country'] = country.name"
   ]
  },
  {
   "cell_type": "code",
   "execution_count": 28,
   "metadata": {},
   "outputs": [],
   "source": [
    "# zmiana na odpowiednie nazwy regionów\n",
    "df_final.loc[:5, 'Region'] = pd.Series(['Basque Country', 'Comunidad de Madrid', 'Catalonia', 'Valencia', 'Islas Baleares', 'Andalucía'])\n",
    "df_final.loc[7, 'Region'] = 'Trentino'\n",
    "df_final.loc[16, 'Region'] = 'Lisbon'"
   ]
  },
  {
   "cell_type": "code",
   "execution_count": 29,
   "metadata": {},
   "outputs": [],
   "source": [
    "# odpowiednia kolejnosc kolumn\n",
    "df_final = df_final[['Country', 'CountryCode', 'Region', 'RegionCode', 'TouristArrivals', 'TouristEstablishments', 'AirPassengers', 'Population']]"
   ]
  },
  {
   "cell_type": "code",
   "execution_count": 30,
   "metadata": {},
   "outputs": [],
   "source": [
    "# zmiana NaN na 0 (tymczasowo w celu odpowiedniego wczytania do bazy)\n",
    "df_final.loc[df_final.AirPassengers.isna(), 'AirPassengers'] = 0.0"
   ]
  },
  {
   "cell_type": "code",
   "execution_count": 31,
   "metadata": {},
   "outputs": [
    {
     "output_type": "execute_result",
     "data": {
      "text/plain": [
       "     Country CountryCode               Region RegionCode  TouristArrivals  \\\n",
       "0      Spain          ES       Basque Country       ES21          3866136   \n",
       "1      Spain          ES  Comunidad de Madrid       ES30         13774677   \n",
       "2      Spain          ES            Catalonia       ES51         26155473   \n",
       "3      Spain          ES             Valencia       ES52         12363818   \n",
       "4      Spain          ES       Islas Baleares       ES53         12425741   \n",
       "5      Spain          ES            Andalucía       ES61         24202798   \n",
       "6      Italy          IT            Lombardia       ITC4         17509461   \n",
       "7      Italy          IT             Trentino       ITH2         12222269   \n",
       "8      Italy          IT               Veneto       ITH3         20194655   \n",
       "9      Italy          IT       Emilia-Romagna       ITH5         11597928   \n",
       "10     Italy          IT              Toscana       ITI1         14346280   \n",
       "11     Italy          IT                Lazio       ITI4         12857606   \n",
       "12     Italy          IT             Campania       ITF3          6279795   \n",
       "13     Italy          IT               Puglia       ITF4          4258308   \n",
       "14     Italy          IT              Sicilia       ITG1          5120421   \n",
       "15  Portugal          PT                Norte       PT11          6103787   \n",
       "16  Portugal          PT               Lisbon       PT17          8302199   \n",
       "\n",
       "    TouristEstablishments  AirPassengers  Population  \n",
       "0                    1232      6353000.0     2177880  \n",
       "1                    1929     59747000.0     6641649  \n",
       "2                    6698     54693000.0     7566431  \n",
       "3                    3990     23401000.0     4974969  \n",
       "4                    2772     40285000.0     1188220  \n",
       "5                    8403     30414000.0     8427405  \n",
       "6                   12002     49096000.0    10010833  \n",
       "7                   13900            0.0     1074034  \n",
       "8                   62461     18404000.0     4884590  \n",
       "9                   16592      9905000.0     4459453  \n",
       "10                  16078      8233000.0     3701343  \n",
       "11                  25418     49250000.0     5773076  \n",
       "12                   8133     10834000.0     5740291  \n",
       "13                   7995      8294000.0     3975528  \n",
       "14                   7473     18182000.0     4908548  \n",
       "15                   1837     13203000.0     3572583  \n",
       "16                   1244     31204000.0     2846332  "
      ],
      "text/html": "<div>\n<style scoped>\n    .dataframe tbody tr th:only-of-type {\n        vertical-align: middle;\n    }\n\n    .dataframe tbody tr th {\n        vertical-align: top;\n    }\n\n    .dataframe thead th {\n        text-align: right;\n    }\n</style>\n<table border=\"1\" class=\"dataframe\">\n  <thead>\n    <tr style=\"text-align: right;\">\n      <th></th>\n      <th>Country</th>\n      <th>CountryCode</th>\n      <th>Region</th>\n      <th>RegionCode</th>\n      <th>TouristArrivals</th>\n      <th>TouristEstablishments</th>\n      <th>AirPassengers</th>\n      <th>Population</th>\n    </tr>\n  </thead>\n  <tbody>\n    <tr>\n      <th>0</th>\n      <td>Spain</td>\n      <td>ES</td>\n      <td>Basque Country</td>\n      <td>ES21</td>\n      <td>3866136</td>\n      <td>1232</td>\n      <td>6353000.0</td>\n      <td>2177880</td>\n    </tr>\n    <tr>\n      <th>1</th>\n      <td>Spain</td>\n      <td>ES</td>\n      <td>Comunidad de Madrid</td>\n      <td>ES30</td>\n      <td>13774677</td>\n      <td>1929</td>\n      <td>59747000.0</td>\n      <td>6641649</td>\n    </tr>\n    <tr>\n      <th>2</th>\n      <td>Spain</td>\n      <td>ES</td>\n      <td>Catalonia</td>\n      <td>ES51</td>\n      <td>26155473</td>\n      <td>6698</td>\n      <td>54693000.0</td>\n      <td>7566431</td>\n    </tr>\n    <tr>\n      <th>3</th>\n      <td>Spain</td>\n      <td>ES</td>\n      <td>Valencia</td>\n      <td>ES52</td>\n      <td>12363818</td>\n      <td>3990</td>\n      <td>23401000.0</td>\n      <td>4974969</td>\n    </tr>\n    <tr>\n      <th>4</th>\n      <td>Spain</td>\n      <td>ES</td>\n      <td>Islas Baleares</td>\n      <td>ES53</td>\n      <td>12425741</td>\n      <td>2772</td>\n      <td>40285000.0</td>\n      <td>1188220</td>\n    </tr>\n    <tr>\n      <th>5</th>\n      <td>Spain</td>\n      <td>ES</td>\n      <td>Andalucía</td>\n      <td>ES61</td>\n      <td>24202798</td>\n      <td>8403</td>\n      <td>30414000.0</td>\n      <td>8427405</td>\n    </tr>\n    <tr>\n      <th>6</th>\n      <td>Italy</td>\n      <td>IT</td>\n      <td>Lombardia</td>\n      <td>ITC4</td>\n      <td>17509461</td>\n      <td>12002</td>\n      <td>49096000.0</td>\n      <td>10010833</td>\n    </tr>\n    <tr>\n      <th>7</th>\n      <td>Italy</td>\n      <td>IT</td>\n      <td>Trentino</td>\n      <td>ITH2</td>\n      <td>12222269</td>\n      <td>13900</td>\n      <td>0.0</td>\n      <td>1074034</td>\n    </tr>\n    <tr>\n      <th>8</th>\n      <td>Italy</td>\n      <td>IT</td>\n      <td>Veneto</td>\n      <td>ITH3</td>\n      <td>20194655</td>\n      <td>62461</td>\n      <td>18404000.0</td>\n      <td>4884590</td>\n    </tr>\n    <tr>\n      <th>9</th>\n      <td>Italy</td>\n      <td>IT</td>\n      <td>Emilia-Romagna</td>\n      <td>ITH5</td>\n      <td>11597928</td>\n      <td>16592</td>\n      <td>9905000.0</td>\n      <td>4459453</td>\n    </tr>\n    <tr>\n      <th>10</th>\n      <td>Italy</td>\n      <td>IT</td>\n      <td>Toscana</td>\n      <td>ITI1</td>\n      <td>14346280</td>\n      <td>16078</td>\n      <td>8233000.0</td>\n      <td>3701343</td>\n    </tr>\n    <tr>\n      <th>11</th>\n      <td>Italy</td>\n      <td>IT</td>\n      <td>Lazio</td>\n      <td>ITI4</td>\n      <td>12857606</td>\n      <td>25418</td>\n      <td>49250000.0</td>\n      <td>5773076</td>\n    </tr>\n    <tr>\n      <th>12</th>\n      <td>Italy</td>\n      <td>IT</td>\n      <td>Campania</td>\n      <td>ITF3</td>\n      <td>6279795</td>\n      <td>8133</td>\n      <td>10834000.0</td>\n      <td>5740291</td>\n    </tr>\n    <tr>\n      <th>13</th>\n      <td>Italy</td>\n      <td>IT</td>\n      <td>Puglia</td>\n      <td>ITF4</td>\n      <td>4258308</td>\n      <td>7995</td>\n      <td>8294000.0</td>\n      <td>3975528</td>\n    </tr>\n    <tr>\n      <th>14</th>\n      <td>Italy</td>\n      <td>IT</td>\n      <td>Sicilia</td>\n      <td>ITG1</td>\n      <td>5120421</td>\n      <td>7473</td>\n      <td>18182000.0</td>\n      <td>4908548</td>\n    </tr>\n    <tr>\n      <th>15</th>\n      <td>Portugal</td>\n      <td>PT</td>\n      <td>Norte</td>\n      <td>PT11</td>\n      <td>6103787</td>\n      <td>1837</td>\n      <td>13203000.0</td>\n      <td>3572583</td>\n    </tr>\n    <tr>\n      <th>16</th>\n      <td>Portugal</td>\n      <td>PT</td>\n      <td>Lisbon</td>\n      <td>PT17</td>\n      <td>8302199</td>\n      <td>1244</td>\n      <td>31204000.0</td>\n      <td>2846332</td>\n    </tr>\n  </tbody>\n</table>\n</div>"
     },
     "metadata": {},
     "execution_count": 31
    }
   ],
   "source": [
    "df_final"
   ]
  },
  {
   "cell_type": "markdown",
   "metadata": {},
   "source": [
    "### Loading to database"
   ]
  },
  {
   "cell_type": "code",
   "execution_count": 37,
   "metadata": {},
   "outputs": [],
   "source": [
    "#conn = pyodbc.connect('Driver={SQL Server};'\n",
    "#                      'Server=DESKTOP-QEE21EV;'\n",
    "#                      'Database=Airbnb_eurostat;'\n",
    "#                      'Trusted_Connection=yes;')\n",
    "#cursor = conn.cursor()"
   ]
  },
  {
   "cell_type": "code",
   "execution_count": 43,
   "metadata": {},
   "outputs": [],
   "source": [
    "# conn = pyodbc.connect('Driver={SQL Server}; Server=LAPTOP-4QT1T3CT; Database=Airbnb_eurostat; Trusted_Connection=yes;')\n",
    "# cursor = conn.cursor()"
   ]
  },
  {
   "cell_type": "code",
   "execution_count": 44,
   "metadata": {},
   "outputs": [],
   "source": [
    "# cursor.execute('CREATE TABLE RegionalStatistics ( \\\n",
    "#                Country varchar(50),\\\n",
    "#                CountryCode varchar(2),\\\n",
    "#                Region varchar(100),\\\n",
    "#                RegionCode varchar(4),\\\n",
    "#                TouristArrivals int,\\\n",
    "#                TouristEstablishments int,\\\n",
    "#                AirPassengers int,\\\n",
    "#                Population int)')\n",
    "# conn.commit()"
   ]
  },
  {
   "cell_type": "code",
   "execution_count": 45,
   "metadata": {},
   "outputs": [],
   "source": [
    "# for row in df_final.itertuples():\n",
    "#     cursor.execute('''\n",
    "#                 INSERT INTO RegionalStatistics\n",
    "#                 VALUES (?,?,?,?,?,?,?,?)\n",
    "#                 ''',\n",
    "#                  row.Country, row.CountryCode, \n",
    "#                  row.Region, row.RegionCode, \n",
    "#                  row.TouristArrivals, row.TouristEstablishments, \n",
    "#                  row.AirPassengers, row.Population)\n",
    "# conn.commit()"
   ]
  },
  {
   "cell_type": "code",
   "execution_count": 46,
   "metadata": {},
   "outputs": [],
   "source": [
    "# zmiana 0 na własciwa wartość (NULL)\n",
    "# cursor.execute('''\n",
    "#                UPDATE Airbnb_eurostat.dbo.RegionalStatistics\n",
    "#                SET AirPassengers = NULL\n",
    "#                WHERE RegionCode = 'ITH2'\n",
    "#                ''')\n",
    "# conn.commit()"
   ]
  },
  {
   "cell_type": "code",
   "execution_count": 34,
   "metadata": {},
   "outputs": [],
   "source": [
    "df_final.to_csv('eurostat_data.csv', index=False, header=True)"
   ]
  },
  {
   "cell_type": "code",
   "execution_count": null,
   "metadata": {},
   "outputs": [],
   "source": []
  }
 ],
 "metadata": {
  "kernelspec": {
   "name": "python385jvsc74a57bd09b0c994d129f48841e1807961366adecbd818aaae02f59df138c330447f8d64f",
   "display_name": "Python 3.8.5 64-bit ('base': conda)"
  },
  "language_info": {
   "codemirror_mode": {
    "name": "ipython",
    "version": 3
   },
   "file_extension": ".py",
   "mimetype": "text/x-python",
   "name": "python",
   "nbconvert_exporter": "python",
   "pygments_lexer": "ipython3",
   "version": "3.8.5"
  }
 },
 "nbformat": 4,
 "nbformat_minor": 4
}