{
 "cells": [
  {
   "cell_type": "markdown",
   "metadata": {},
   "source": [
    "### Loading data from csv to database"
   ]
  },
  {
   "cell_type": "code",
   "execution_count": 1,
   "metadata": {},
   "outputs": [],
   "source": [
    "import pandas as pd\n",
    "import numpy as np\n",
    "import seaborn as sns\n",
    "import matplotlib.pyplot as plt\n",
    "import pyodbc\n",
    "import os\n",
    "pd.set_option('display.max_columns', None)"
   ]
  },
  {
   "cell_type": "code",
   "execution_count": 2,
   "metadata": {},
   "outputs": [],
   "source": [
    "# conn = pyodbc.connect('Driver={SQL Server};'\n",
    "#                       'Server=DESKTOP-QEE21EV;'\n",
    "#                       'Database=Airbnb_db_test;'\n",
    "#                       'Trusted_Connection=yes;')\n",
    "# cursor = conn.cursor()"
   ]
  },
  {
   "cell_type": "code",
   "execution_count": 3,
   "metadata": {},
   "outputs": [],
   "source": [
    "# cursor.execute('CREATE TABLE Listings_skrypt ( \\\n",
    "#                id int, \\\n",
    "#                listing_url nvarchar(MAX),  \\\n",
    "#                 scrape_id float, \\\n",
    "#                last_scraped  nvarchar(MAX), \\\n",
    "#                name nvarchar(MAX), \\\n",
    "#                description nvarchar(MAX), \\\n",
    "#                neighborhood_overview nvarchar(MAX),\\\n",
    "#                picture_url nvarchar(MAX), \\\n",
    "#                host_id int, \\\n",
    "#                host_url nvarchar(MAX), \\\n",
    "#                host_name nvarchar(MAX), \\\n",
    "#                host_since  nvarchar(MAX), \\\n",
    "#                host_location nvarchar(MAX), \\\n",
    "#                host_about nvarchar(MAX), \\\n",
    "#                host_response_time nvarchar(MAX), \\\n",
    "#                host_response_rate nvarchar(MAX), \\\n",
    "#                host_acceptance_rate nvarchar(MAX), \\\n",
    "#                host_is_superhost nvarchar(MAX), \\\n",
    "#                host_thumbnail_url nvarchar(MAX), \\\n",
    "#                host_picture_url nvarchar(MAX), \\\n",
    "#                host_neighbourhood nvarchar(MAX), \\\n",
    "#                host_listings_count  nvarchar(MAX), \\\n",
    "#                host_total_listings_count  nvarchar(MAX), \\\n",
    "#                host_verifications nvarchar(MAX), \\\n",
    "#                host_has_profile_pic nvarchar(MAX), \\\n",
    "#                host_identity_verified  nvarchar(MAX), \\\n",
    "#                neighbourhood nvarchar(MAX),\\\n",
    "#                neighbourhood_cleansed nvarchar(MAX), \\\n",
    "#                neighbourhood_group_cleansed nvarchar(MAX), \\\n",
    "#                latitude nvarchar(MAX), \\\n",
    "#                longitude nvarchar(MAX), \\\n",
    "#                property_type nvarchar(MAX), \\\n",
    "#                room_type  nvarchar(MAX), \\\n",
    "#                accommodates nvarchar(MAX) , \\\n",
    "#                bathrooms nvarchar(MAX), \\\n",
    "#                bathrooms_text nvarchar(MAX), \\\n",
    "#                bedrooms nvarchar(MAX), \\\n",
    "#                beds nvarchar(MAX), \\\n",
    "#                amenities nvarchar(MAX), \\\n",
    "#                price nvarchar(MAX), \\\n",
    "#                minimum_nights  nvarchar(MAX), \\\n",
    "#                maximum_nights int, \\\n",
    "#                minimum_minimum_nights nvarchar(MAX), \\\n",
    "#                maximum_minimum_nights nvarchar(MAX), \\\n",
    "#                minimum_maximum_nights int , \\\n",
    "#                maximum_maximum_nights int, \\\n",
    "#                minimum_nights_avg_ntm nvarchar(MAX), \\\n",
    "#                maximum_nights_avg_ntm nvarchar(MAX), \\\n",
    "#                calendar_updated nvarchar(MAX), \\\n",
    "#                has_availability  nvarchar(MAX), \\\n",
    "#                availability_30  nvarchar(MAX) , \\\n",
    "#                availability_60  nvarchar(MAX), \\\n",
    "#                availability_90  nvarchar(MAX), \\\n",
    "#                availability_365  nvarchar(MAX), \\\n",
    "#                calendar_last_scraped  nvarchar(MAX), \\\n",
    "#                number_of_reviews  nvarchar(MAX), \\\n",
    "#                number_of_reviews_ltm  nvarchar(MAX), \\\n",
    "#                number_of_reviews_l30d  nvarchar(MAX), \\\n",
    "#                first_review  nvarchar(MAX), \\\n",
    "#                last_review  nvarchar(MAX), \\\n",
    "#                review_scores_rating  nvarchar(MAX), \\\n",
    "#                review_scores_accuracy   nvarchar(MAX), \\\n",
    "#                review_scores_cleanliness   nvarchar(MAX), \\\n",
    "#                review_scores_checkin   nvarchar(MAX), \\\n",
    "#                review_scores_communication  nvarchar(MAX), \\\n",
    "#                review_scores_location  nvarchar(MAX), \\\n",
    "#                review_scores_value  nvarchar(MAX), \\\n",
    "#                license nvarchar(MAX), \\\n",
    "#                instant_bookable  nvarchar(MAX), \\\n",
    "#                calculated_host_listings_count  nvarchar(MAX) , \\\n",
    "#                calculated_host_listings_count_entire_homes  nvarchar(MAX), \\\n",
    "#                calculated_host_listings_count_private_rooms  nvarchar(MAX), \\\n",
    "#                calculated_host_listings_count_shared_rooms nvarchar(MAX), \\\n",
    "#                reviews_per_month nvarchar(MAX))')"
   ]
  },
  {
   "cell_type": "code",
   "execution_count": 4,
   "metadata": {},
   "outputs": [],
   "source": [
    "# conn.commit()"
   ]
  },
  {
   "cell_type": "code",
   "execution_count": 5,
   "metadata": {},
   "outputs": [],
   "source": [
    "data = pd.read_csv (f'airbnb_csv/Barcelona, Catalonia, Spain.csv')\n",
    "city_df = pd.DataFrame(data)\n",
    "df=pd.DataFrame(columns=city_df.columns)"
   ]
  },
  {
   "cell_type": "code",
   "execution_count": 6,
   "metadata": {},
   "outputs": [
    {
     "name": "stderr",
     "output_type": "stream",
     "text": [
      "C:\\Users\\marty\\anaconda3\\lib\\site-packages\\IPython\\core\\interactiveshell.py:3146: DtypeWarning: Columns (67) have mixed types.Specify dtype option on import or set low_memory=False.\n",
      "  has_raised = await self.run_ast_nodes(code_ast.body, cell_name,\n"
     ]
    }
   ],
   "source": [
    "for file in os.listdir('airbnb_csv'):\n",
    "    string=file.split(\".\")[0]\n",
    "    string_split=string.split(\", \")  \n",
    "\n",
    "    data = pd.read_csv(f'airbnb_csv/{file}')\n",
    "    city_df = pd.DataFrame(data)\n",
    "    city_df['city']=string_split[0]\n",
    "    city_df['region']=string_split[1]\n",
    "    city_df['country']=string_split[2]\n",
    "    df=pd.concat([df, city_df], axis=0)\n"
   ]
  },
  {
   "cell_type": "code",
   "execution_count": 7,
   "metadata": {},
   "outputs": [],
   "source": [
    "df_copy=df.copy()"
   ]
  },
  {
   "cell_type": "code",
   "execution_count": 8,
   "metadata": {},
   "outputs": [],
   "source": [
    "#df=df_copy.copy()"
   ]
  },
  {
   "cell_type": "markdown",
   "metadata": {},
   "source": [
    "### INSERT DATA"
   ]
  },
  {
   "cell_type": "code",
   "execution_count": 9,
   "metadata": {
    "scrolled": true
   },
   "outputs": [],
   "source": [
    "# for row in df.itertuples():\n",
    "#     cursor.execute('''\n",
    "#                 INSERT INTO Listings_skrypt\n",
    "#                 VALUES (?,?,?,?,?,?,?,?,?,?,?,?,?,?,?,?,?,?,?,?,?,?,?,?, \\\n",
    "#                 ?,?,?,?,?,?,?,?,?,?,?,?,?,?,?,?,?,?,?,?,?,?,?,?,?,?,?,?,?,?,?,?,?,?,?,?,?,?,?,?,?,?,?,?,?,?,?,?,?,?)\n",
    "#                 ''',\n",
    "#                  row.id, row.listing_url, row.scrape_id, row.last_scraped,\n",
    "#                  row.name, row.description, row.neighborhood_overview,\n",
    "#                  row.picture_url, row.host_id, row.host_url,\n",
    "#                  row.host_name, row.host_since, row.host_location, row.host_about,\n",
    "#                  row.host_response_time, row.host_response_rate, row.host_acceptance_rate,\n",
    "#                  row.host_is_superhost, row.host_thumbnail_url, row.host_picture_url,\n",
    "#                  row.host_neighbourhood, row.host_listings_count,\n",
    "#                  row.host_total_listings_count, row.host_verifications,\n",
    "#                  row.host_has_profile_pic, row.host_identity_verified, row.neighbourhood,\n",
    "#                  row.neighbourhood_cleansed, row.neighbourhood_group_cleansed, row.latitude,\n",
    "#                  row.longitude, row.property_type, row.room_type, row.accommodates, row.bathrooms,\n",
    "#                  row.bathrooms_text, row.bedrooms, row.beds, row.amenities, row.price,\n",
    "#                  row.minimum_nights, row.maximum_nights, row.minimum_minimum_nights,\n",
    "#                  row.maximum_minimum_nights, row.minimum_maximum_nights,\n",
    "#                  row.maximum_maximum_nights, row.minimum_nights_avg_ntm,\n",
    "#                  row.maximum_nights_avg_ntm, row.calendar_updated, row.has_availability,\n",
    "#                  row.availability_30, row.availability_60, row.availability_90,\n",
    "#                  row.availability_365, row.calendar_last_scraped, row.number_of_reviews,\n",
    "#                  row.number_of_reviews_ltm, row.number_of_reviews_l30d, row.first_review,\n",
    "#                  row.last_review, row.review_scores_rating, row.review_scores_accuracy,\n",
    "#                  row.review_scores_cleanliness, row.review_scores_checkin,\n",
    "#                  row.review_scores_communication, row.review_scores_location,\n",
    "#                  row.review_scores_value, row.license, row.instant_bookable,\n",
    "#                  row.calculated_host_listings_count,\n",
    "#                  row.calculated_host_listings_count_entire_homes,\n",
    "#                  row.calculated_host_listings_count_private_rooms,\n",
    "#                  row.calculated_host_listings_count_shared_rooms, row.reviews_per_month\n",
    "#                 )\n",
    "# conn.commit()"
   ]
  },
  {
   "cell_type": "code",
   "execution_count": 10,
   "metadata": {},
   "outputs": [],
   "source": [
    "df = df.loc[:,['id','scrape_id','last_scraped','name',\n",
    "'host_id','host_name','host_since','host_response_time','host_response_rate','host_acceptance_rate','host_is_superhost',\n",
    "'host_listings_count','host_has_profile_pic','host_identity_verified','latitude','longitude','property_type','room_type','accommodates',\n",
    "'bathrooms_text','bedrooms','beds','amenities','price','minimum_nights','maximum_nights',\n",
    "'availability_365','number_of_reviews','first_review','last_review',\n",
    "        'review_scores_rating', 'review_scores_accuracy',\n",
    "       'review_scores_cleanliness', 'review_scores_checkin',\n",
    "       'review_scores_communication', 'review_scores_location',\n",
    "       'review_scores_value',\n",
    "'instant_bookable','reviews_per_month', 'city', 'region', 'country']]"
   ]
  },
  {
   "cell_type": "code",
   "execution_count": 11,
   "metadata": {},
   "outputs": [
    {
     "data": {
      "text/plain": [
       "(295238, 42)"
      ]
     },
     "execution_count": 11,
     "metadata": {},
     "output_type": "execute_result"
    }
   ],
   "source": [
    "df.shape"
   ]
  },
  {
   "cell_type": "code",
   "execution_count": 12,
   "metadata": {},
   "outputs": [],
   "source": [
    "#host = df.loc[:,['host_id','host_name','host_since','host_is_superhost','host_has_profile_pic',\n",
    "#                 'host_identity_verified','host_response_time','host_response_rate','host_acceptance_rate',]]"
   ]
  },
  {
   "cell_type": "code",
   "execution_count": 13,
   "metadata": {},
   "outputs": [],
   "source": [
    "#host.shape[1]"
   ]
  },
  {
   "cell_type": "code",
   "execution_count": 14,
   "metadata": {},
   "outputs": [],
   "source": [
    "#host.duplicated().value_counts()"
   ]
  },
  {
   "cell_type": "code",
   "execution_count": 15,
   "metadata": {},
   "outputs": [],
   "source": [
    "# listing = df.loc[:,['id','last_scraped', 'host_id','name','latitude','longitude','property_type','room_type',\n",
    "#                     'instant_bookable','first_review','last_review','accommodates','bathrooms','bathrooms_text',\n",
    "#                     'bedrooms','beds','amenities','price','minimum_nights','maximum_nights','availability_365',\n",
    "#                     'number_of_reviews','reviews_per_month','review_scores_rating','review_scores_cleanliness',\n",
    "#                     'review_scores_checkin','review_scores_communication','review_scores_location','host_listings_count']]"
   ]
  },
  {
   "cell_type": "code",
   "execution_count": 16,
   "metadata": {},
   "outputs": [],
   "source": [
    "# listing.shape[1]"
   ]
  },
  {
   "cell_type": "code",
   "execution_count": 17,
   "metadata": {},
   "outputs": [],
   "source": [
    "# amenity = df['amenities']"
   ]
  },
  {
   "cell_type": "code",
   "execution_count": 18,
   "metadata": {},
   "outputs": [
    {
     "data": {
      "text/html": [
       "<div>\n",
       "<style scoped>\n",
       "    .dataframe tbody tr th:only-of-type {\n",
       "        vertical-align: middle;\n",
       "    }\n",
       "\n",
       "    .dataframe tbody tr th {\n",
       "        vertical-align: top;\n",
       "    }\n",
       "\n",
       "    .dataframe thead th {\n",
       "        text-align: right;\n",
       "    }\n",
       "</style>\n",
       "<table border=\"1\" class=\"dataframe\">\n",
       "  <thead>\n",
       "    <tr style=\"text-align: right;\">\n",
       "      <th></th>\n",
       "      <th>Total</th>\n",
       "      <th>Percent</th>\n",
       "    </tr>\n",
       "  </thead>\n",
       "  <tbody>\n",
       "    <tr>\n",
       "      <th>host_response_time</th>\n",
       "      <td>111899</td>\n",
       "      <td>0.3790</td>\n",
       "    </tr>\n",
       "    <tr>\n",
       "      <th>host_response_rate</th>\n",
       "      <td>111899</td>\n",
       "      <td>0.3790</td>\n",
       "    </tr>\n",
       "    <tr>\n",
       "      <th>host_acceptance_rate</th>\n",
       "      <td>90667</td>\n",
       "      <td>0.3071</td>\n",
       "    </tr>\n",
       "    <tr>\n",
       "      <th>review_scores_value</th>\n",
       "      <td>90586</td>\n",
       "      <td>0.3068</td>\n",
       "    </tr>\n",
       "    <tr>\n",
       "      <th>review_scores_location</th>\n",
       "      <td>90569</td>\n",
       "      <td>0.3068</td>\n",
       "    </tr>\n",
       "    <tr>\n",
       "      <th>review_scores_checkin</th>\n",
       "      <td>90560</td>\n",
       "      <td>0.3067</td>\n",
       "    </tr>\n",
       "    <tr>\n",
       "      <th>review_scores_communication</th>\n",
       "      <td>90513</td>\n",
       "      <td>0.3066</td>\n",
       "    </tr>\n",
       "    <tr>\n",
       "      <th>review_scores_accuracy</th>\n",
       "      <td>90502</td>\n",
       "      <td>0.3065</td>\n",
       "    </tr>\n",
       "    <tr>\n",
       "      <th>review_scores_cleanliness</th>\n",
       "      <td>90464</td>\n",
       "      <td>0.3064</td>\n",
       "    </tr>\n",
       "    <tr>\n",
       "      <th>review_scores_rating</th>\n",
       "      <td>90195</td>\n",
       "      <td>0.3055</td>\n",
       "    </tr>\n",
       "    <tr>\n",
       "      <th>first_review</th>\n",
       "      <td>86584</td>\n",
       "      <td>0.2933</td>\n",
       "    </tr>\n",
       "    <tr>\n",
       "      <th>reviews_per_month</th>\n",
       "      <td>86584</td>\n",
       "      <td>0.2933</td>\n",
       "    </tr>\n",
       "    <tr>\n",
       "      <th>last_review</th>\n",
       "      <td>86584</td>\n",
       "      <td>0.2933</td>\n",
       "    </tr>\n",
       "    <tr>\n",
       "      <th>bedrooms</th>\n",
       "      <td>12290</td>\n",
       "      <td>0.0416</td>\n",
       "    </tr>\n",
       "    <tr>\n",
       "      <th>host_name</th>\n",
       "      <td>10579</td>\n",
       "      <td>0.0358</td>\n",
       "    </tr>\n",
       "    <tr>\n",
       "      <th>host_since</th>\n",
       "      <td>10579</td>\n",
       "      <td>0.0358</td>\n",
       "    </tr>\n",
       "    <tr>\n",
       "      <th>host_is_superhost</th>\n",
       "      <td>10579</td>\n",
       "      <td>0.0358</td>\n",
       "    </tr>\n",
       "    <tr>\n",
       "      <th>host_listings_count</th>\n",
       "      <td>10579</td>\n",
       "      <td>0.0358</td>\n",
       "    </tr>\n",
       "    <tr>\n",
       "      <th>host_has_profile_pic</th>\n",
       "      <td>10579</td>\n",
       "      <td>0.0358</td>\n",
       "    </tr>\n",
       "    <tr>\n",
       "      <th>host_identity_verified</th>\n",
       "      <td>10579</td>\n",
       "      <td>0.0358</td>\n",
       "    </tr>\n",
       "    <tr>\n",
       "      <th>beds</th>\n",
       "      <td>2260</td>\n",
       "      <td>0.0077</td>\n",
       "    </tr>\n",
       "    <tr>\n",
       "      <th>bathrooms_text</th>\n",
       "      <td>324</td>\n",
       "      <td>0.0011</td>\n",
       "    </tr>\n",
       "    <tr>\n",
       "      <th>name</th>\n",
       "      <td>55</td>\n",
       "      <td>0.0002</td>\n",
       "    </tr>\n",
       "  </tbody>\n",
       "</table>\n",
       "</div>"
      ],
      "text/plain": [
       "                              Total  Percent\n",
       "host_response_time           111899   0.3790\n",
       "host_response_rate           111899   0.3790\n",
       "host_acceptance_rate          90667   0.3071\n",
       "review_scores_value           90586   0.3068\n",
       "review_scores_location        90569   0.3068\n",
       "review_scores_checkin         90560   0.3067\n",
       "review_scores_communication   90513   0.3066\n",
       "review_scores_accuracy        90502   0.3065\n",
       "review_scores_cleanliness     90464   0.3064\n",
       "review_scores_rating          90195   0.3055\n",
       "first_review                  86584   0.2933\n",
       "reviews_per_month             86584   0.2933\n",
       "last_review                   86584   0.2933\n",
       "bedrooms                      12290   0.0416\n",
       "host_name                     10579   0.0358\n",
       "host_since                    10579   0.0358\n",
       "host_is_superhost             10579   0.0358\n",
       "host_listings_count           10579   0.0358\n",
       "host_has_profile_pic          10579   0.0358\n",
       "host_identity_verified        10579   0.0358\n",
       "beds                           2260   0.0077\n",
       "bathrooms_text                  324   0.0011\n",
       "name                             55   0.0002"
      ]
     },
     "execution_count": 18,
     "metadata": {},
     "output_type": "execute_result"
    }
   ],
   "source": [
    "total = df.isna().sum().sort_values(ascending=False) # how many missings in each column\n",
    "percent = (df.isna().sum()/df.isna().count()).round(4).sort_values(ascending=False) # in %\n",
    "missing_df = pd.concat([total, percent], axis=1, keys=['Total', 'Percent'])\n",
    "missing_df.query(\"Total > 0\")"
   ]
  },
  {
   "cell_type": "code",
   "execution_count": 19,
   "metadata": {},
   "outputs": [
    {
     "data": {
      "image/png": "[encoded data removed]",
      "text/plain": [
       "<Figure size 432x288 with 2 Axes>"
      ]
     },
     "metadata": {
      "needs_background": "light"
     },
     "output_type": "display_data"
    }
   ],
   "source": [
    "#plt.figure(figsize=(15,9))\n",
    "sns.heatmap(df[missing_df.query('Total > 0').index].isna()); # selecting only those variables which contain any missings\n",
    "plt.title('Visualization of NAs in dataset (white - missing values)\\n');"
   ]
  },
  {
   "cell_type": "code",
   "execution_count": 20,
   "metadata": {
    "scrolled": true
   },
   "outputs": [],
   "source": [
    "cols_missing=['review_scores_rating', 'review_scores_accuracy',\n",
    "       'review_scores_cleanliness', 'review_scores_checkin',\n",
    "       'review_scores_communication', 'review_scores_location',\n",
    "       'review_scores_value','bedrooms', 'beds','bathrooms_text', 'host_listings_count', 'name', 'first_review', 'last_review']\n",
    "df = df.dropna(subset=cols_missing).reset_index(drop=True)"
   ]
  },
  {
   "cell_type": "code",
   "execution_count": 21,
   "metadata": {},
   "outputs": [],
   "source": [
    "# usuniecie $ i konwersja price na typ numeryczny\n",
    "df['price'] = df['price'].apply(lambda x: x[1:].replace(',','')).astype(float)"
   ]
  },
  {
   "cell_type": "code",
   "execution_count": 22,
   "metadata": {},
   "outputs": [],
   "source": [
    "# usuniecie ; z nazwy\n",
    "df['name'] = df['name'].apply(lambda x: x.replace(';',':'))"
   ]
  },
  {
   "cell_type": "code",
   "execution_count": 23,
   "metadata": {},
   "outputs": [
    {
     "name": "stdout",
     "output_type": "stream",
     "text": [
      "Wall time: 4min 5s\n"
     ]
    }
   ],
   "source": [
    "%%time\n",
    "# bathrooms\n",
    "df['bathrooms_type'] = 'private'\n",
    "df['bathrooms'] = 0.0\n",
    "for i, val in df.iterrows():\n",
    "    if ('shared' in df.iat[i,19]) or ('Shared' in df.iat[i,19]):\n",
    "        df.iat[i,42] = 'shared'\n",
    "    if ('half-bath' in df.iat[i,19]) or ('Half-bath' in df.iat[i,19]):\n",
    "        df.iat[i,43] = 0.5\n",
    "    first_word = df.iat[i,19].split(' ', 1)[0]\n",
    "    if len(first_word) <= 4:\n",
    "        df.iat[i,43] = float(first_word)\n",
    "df['bathrooms_text'] = df['bathrooms_type']"
   ]
  },
  {
   "cell_type": "code",
   "execution_count": 24,
   "metadata": {
    "scrolled": true
   },
   "outputs": [],
   "source": [
    "df = df.drop('bathrooms_type', axis=1).rename(columns={'bathrooms_text':'bathrooms_type'})"
   ]
  },
  {
   "cell_type": "code",
   "execution_count": 25,
   "metadata": {
    "scrolled": true
   },
   "outputs": [],
   "source": [
    "# beds\n",
    "df['bedrooms'] = df.bedrooms.astype(int)\n",
    "df['beds'] = df.beds.astype(int)"
   ]
  },
  {
   "cell_type": "code",
   "execution_count": 26,
   "metadata": {},
   "outputs": [
    {
     "name": "stdout",
     "output_type": "stream",
     "text": [
      "<class 'pandas.core.frame.DataFrame'>\n",
      "RangeIndex: 188437 entries, 0 to 188436\n",
      "Data columns (total 43 columns):\n",
      " #   Column                       Non-Null Count   Dtype  \n",
      "---  ------                       --------------   -----  \n",
      " 0   id                           188437 non-null  object \n",
      " 1   scrape_id                    188437 non-null  object \n",
      " 2   last_scraped                 188437 non-null  object \n",
      " 3   name                         188437 non-null  object \n",
      " 4   host_id                      188437 non-null  object \n",
      " 5   host_name                    188437 non-null  object \n",
      " 6   host_since                   188437 non-null  object \n",
      " 7   host_response_time           127480 non-null  object \n",
      " 8   host_response_rate           127480 non-null  object \n",
      " 9   host_acceptance_rate         144752 non-null  object \n",
      " 10  host_is_superhost            188437 non-null  object \n",
      " 11  host_listings_count          188437 non-null  float64\n",
      " 12  host_has_profile_pic         188437 non-null  object \n",
      " 13  host_identity_verified       188437 non-null  object \n",
      " 14  latitude                     188437 non-null  float64\n",
      " 15  longitude                    188437 non-null  float64\n",
      " 16  property_type                188437 non-null  object \n",
      " 17  room_type                    188437 non-null  object \n",
      " 18  accommodates                 188437 non-null  object \n",
      " 19  bathrooms_type               188437 non-null  object \n",
      " 20  bedrooms                     188437 non-null  int32  \n",
      " 21  beds                         188437 non-null  int32  \n",
      " 22  amenities                    188437 non-null  object \n",
      " 23  price                        188437 non-null  float64\n",
      " 24  minimum_nights               188437 non-null  object \n",
      " 25  maximum_nights               188437 non-null  object \n",
      " 26  availability_365             188437 non-null  object \n",
      " 27  number_of_reviews            188437 non-null  object \n",
      " 28  first_review                 188437 non-null  object \n",
      " 29  last_review                  188437 non-null  object \n",
      " 30  review_scores_rating         188437 non-null  float64\n",
      " 31  review_scores_accuracy       188437 non-null  float64\n",
      " 32  review_scores_cleanliness    188437 non-null  float64\n",
      " 33  review_scores_checkin        188437 non-null  float64\n",
      " 34  review_scores_communication  188437 non-null  float64\n",
      " 35  review_scores_location       188437 non-null  float64\n",
      " 36  review_scores_value          188437 non-null  float64\n",
      " 37  instant_bookable             188437 non-null  object \n",
      " 38  reviews_per_month            188437 non-null  float64\n",
      " 39  city                         188437 non-null  object \n",
      " 40  region                       188437 non-null  object \n",
      " 41  country                      188437 non-null  object \n",
      " 42  bathrooms                    188437 non-null  float64\n",
      "dtypes: float64(13), int32(2), object(28)\n",
      "memory usage: 60.4+ MB\n"
     ]
    }
   ],
   "source": [
    "df.info()"
   ]
  },
  {
   "cell_type": "markdown",
   "metadata": {},
   "source": [
    "## Conversion"
   ]
  },
  {
   "cell_type": "code",
   "execution_count": 27,
   "metadata": {},
   "outputs": [],
   "source": [
    "date_cols=['last_scraped', 'first_review','last_review', 'host_since']\n",
    "for col in date_cols:\n",
    "    df[col]=pd.to_datetime(df[col])"
   ]
  },
  {
   "cell_type": "code",
   "execution_count": 28,
   "metadata": {},
   "outputs": [],
   "source": [
    "int_cols=['id', 'host_id', 'review_scores_rating', 'review_scores_accuracy', 'review_scores_cleanliness', 'review_scores_checkin',\n",
    "          'review_scores_communication', 'review_scores_location', 'review_scores_value', 'host_listings_count',\n",
    "         'minimum_nights', 'maximum_nights', 'accommodates', 'availability_365', 'number_of_reviews', ]"
   ]
  },
  {
   "cell_type": "code",
   "execution_count": 29,
   "metadata": {},
   "outputs": [],
   "source": [
    "for col in int_cols:\n",
    "    df[col]=df[col].astype(int)"
   ]
  },
  {
   "cell_type": "code",
   "execution_count": 30,
   "metadata": {},
   "outputs": [
    {
     "name": "stdout",
     "output_type": "stream",
     "text": [
      "<class 'pandas.core.frame.DataFrame'>\n",
      "RangeIndex: 188437 entries, 0 to 188436\n",
      "Data columns (total 43 columns):\n",
      " #   Column                       Non-Null Count   Dtype         \n",
      "---  ------                       --------------   -----         \n",
      " 0   id                           188437 non-null  int32         \n",
      " 1   scrape_id                    188437 non-null  object        \n",
      " 2   last_scraped                 188437 non-null  datetime64[ns]\n",
      " 3   name                         188437 non-null  object        \n",
      " 4   host_id                      188437 non-null  int32         \n",
      " 5   host_name                    188437 non-null  object        \n",
      " 6   host_since                   188437 non-null  datetime64[ns]\n",
      " 7   host_response_time           127480 non-null  object        \n",
      " 8   host_response_rate           127480 non-null  object        \n",
      " 9   host_acceptance_rate         144752 non-null  object        \n",
      " 10  host_is_superhost            188437 non-null  object        \n",
      " 11  host_listings_count          188437 non-null  int32         \n",
      " 12  host_has_profile_pic         188437 non-null  object        \n",
      " 13  host_identity_verified       188437 non-null  object        \n",
      " 14  latitude                     188437 non-null  float64       \n",
      " 15  longitude                    188437 non-null  float64       \n",
      " 16  property_type                188437 non-null  object        \n",
      " 17  room_type                    188437 non-null  object        \n",
      " 18  accommodates                 188437 non-null  int32         \n",
      " 19  bathrooms_type               188437 non-null  object        \n",
      " 20  bedrooms                     188437 non-null  int32         \n",
      " 21  beds                         188437 non-null  int32         \n",
      " 22  amenities                    188437 non-null  object        \n",
      " 23  price                        188437 non-null  float64       \n",
      " 24  minimum_nights               188437 non-null  int32         \n",
      " 25  maximum_nights               188437 non-null  int32         \n",
      " 26  availability_365             188437 non-null  int32         \n",
      " 27  number_of_reviews            188437 non-null  int32         \n",
      " 28  first_review                 188437 non-null  datetime64[ns]\n",
      " 29  last_review                  188437 non-null  datetime64[ns]\n",
      " 30  review_scores_rating         188437 non-null  int32         \n",
      " 31  review_scores_accuracy       188437 non-null  int32         \n",
      " 32  review_scores_cleanliness    188437 non-null  int32         \n",
      " 33  review_scores_checkin        188437 non-null  int32         \n",
      " 34  review_scores_communication  188437 non-null  int32         \n",
      " 35  review_scores_location       188437 non-null  int32         \n",
      " 36  review_scores_value          188437 non-null  int32         \n",
      " 37  instant_bookable             188437 non-null  object        \n",
      " 38  reviews_per_month            188437 non-null  float64       \n",
      " 39  city                         188437 non-null  object        \n",
      " 40  region                       188437 non-null  object        \n",
      " 41  country                      188437 non-null  object        \n",
      " 42  bathrooms                    188437 non-null  float64       \n",
      "dtypes: datetime64[ns](4), float64(5), int32(17), object(17)\n",
      "memory usage: 49.6+ MB\n"
     ]
    }
   ],
   "source": [
    "df.info()"
   ]
  },
  {
   "cell_type": "code",
   "execution_count": 31,
   "metadata": {},
   "outputs": [
    {
     "data": {
      "text/plain": [
       "(188437, 43)"
      ]
     },
     "execution_count": 31,
     "metadata": {},
     "output_type": "execute_result"
    }
   ],
   "source": [
    "df.shape"
   ]
  },
  {
   "cell_type": "code",
   "execution_count": 32,
   "metadata": {},
   "outputs": [],
   "source": [
    "df.to_csv('airbnb_data.csv', sep=';', index=False)"
   ]
  },
  {
   "cell_type": "code",
   "execution_count": 33,
   "metadata": {},
   "outputs": [],
   "source": [
    "#df.to_csv('airbnb_data_coma.csv', sep=',', index=False)"
   ]
  },
  {
   "cell_type": "code",
   "execution_count": null,
   "metadata": {},
   "outputs": [],
   "source": []
  }
 ],
 "metadata": {
  "kernelspec": {
   "display_name": "Python 3",
   "language": "python",
   "name": "python3"
  },
  "language_info": {
   "codemirror_mode": {
    "name": "ipython",
    "version": 3
   },
   "file_extension": ".py",
   "mimetype": "text/x-python",
   "name": "python",
   "nbconvert_exporter": "python",
   "pygments_lexer": "ipython3",
   "version": "3.8.5"
  }
 },
 "nbformat": 4,
 "nbformat_minor": 4
}
