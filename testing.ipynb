{
 "cells": [
  {
   "cell_type": "markdown",
   "metadata": {},
   "source": [
    "### Testing Eurostat and Airbnb data join"
   ]
  },
  {
   "cell_type": "code",
   "execution_count": 6,
   "metadata": {},
   "outputs": [],
   "source": [
    "import pandas as pd\n",
    "import numpy as np\n",
    "import seaborn as sns\n",
    "import matplotlib.pyplot as plt\n",
    "\n",
    "pd.set_option('display.max_columns', None)"
   ]
  },
  {
   "cell_type": "code",
   "execution_count": 7,
   "metadata": {},
   "outputs": [],
   "source": [
    "eurostat = pd.read_csv('eurostat_data.csv')"
   ]
  },
  {
   "cell_type": "code",
   "execution_count": 8,
   "metadata": {},
   "outputs": [
    {
     "output_type": "execute_result",
     "data": {
      "text/plain": [
       "  Country CountryCode               Region RegionCode  TouristArrivals  \\\n",
       "0   Spain          ES       Basque Country       ES21          3866136   \n",
       "1   Spain          ES  Comunidad de Madrid       ES30         13774677   \n",
       "2   Spain          ES            Catalonia       ES51         26155473   \n",
       "3   Spain          ES             Valencia       ES52         12363818   \n",
       "4   Spain          ES       Islas Baleares       ES53         12425741   \n",
       "\n",
       "   TouristEstablishments  AirPassengers  Population  \n",
       "0                   1232      6353000.0     2177880  \n",
       "1                   1929     59747000.0     6641649  \n",
       "2                   6698     54693000.0     7566431  \n",
       "3                   3990     23401000.0     4974969  \n",
       "4                   2772     40285000.0     1188220  "
      ],
      "text/html": "<div>\n<style scoped>\n    .dataframe tbody tr th:only-of-type {\n        vertical-align: middle;\n    }\n\n    .dataframe tbody tr th {\n        vertical-align: top;\n    }\n\n    .dataframe thead th {\n        text-align: right;\n    }\n</style>\n<table border=\"1\" class=\"dataframe\">\n  <thead>\n    <tr style=\"text-align: right;\">\n      <th></th>\n      <th>Country</th>\n      <th>CountryCode</th>\n      <th>Region</th>\n      <th>RegionCode</th>\n      <th>TouristArrivals</th>\n      <th>TouristEstablishments</th>\n      <th>AirPassengers</th>\n      <th>Population</th>\n    </tr>\n  </thead>\n  <tbody>\n    <tr>\n      <th>0</th>\n      <td>Spain</td>\n      <td>ES</td>\n      <td>Basque Country</td>\n      <td>ES21</td>\n      <td>3866136</td>\n      <td>1232</td>\n      <td>6353000.0</td>\n      <td>2177880</td>\n    </tr>\n    <tr>\n      <th>1</th>\n      <td>Spain</td>\n      <td>ES</td>\n      <td>Comunidad de Madrid</td>\n      <td>ES30</td>\n      <td>13774677</td>\n      <td>1929</td>\n      <td>59747000.0</td>\n      <td>6641649</td>\n    </tr>\n    <tr>\n      <th>2</th>\n      <td>Spain</td>\n      <td>ES</td>\n      <td>Catalonia</td>\n      <td>ES51</td>\n      <td>26155473</td>\n      <td>6698</td>\n      <td>54693000.0</td>\n      <td>7566431</td>\n    </tr>\n    <tr>\n      <th>3</th>\n      <td>Spain</td>\n      <td>ES</td>\n      <td>Valencia</td>\n      <td>ES52</td>\n      <td>12363818</td>\n      <td>3990</td>\n      <td>23401000.0</td>\n      <td>4974969</td>\n    </tr>\n    <tr>\n      <th>4</th>\n      <td>Spain</td>\n      <td>ES</td>\n      <td>Islas Baleares</td>\n      <td>ES53</td>\n      <td>12425741</td>\n      <td>2772</td>\n      <td>40285000.0</td>\n      <td>1188220</td>\n    </tr>\n  </tbody>\n</table>\n</div>"
     },
     "metadata": {},
     "execution_count": 8
    }
   ],
   "source": [
    "eurostat.head()"
   ]
  },
  {
   "cell_type": "code",
   "execution_count": 10,
   "metadata": {},
   "outputs": [],
   "source": [
    "airbnb = pd.read_csv('airbnb_data_comma.csv')"
   ]
  },
  {
   "cell_type": "code",
   "execution_count": 11,
   "metadata": {},
   "outputs": [
    {
     "output_type": "execute_result",
     "data": {
      "text/plain": [
       "      id       scrape_id last_scraped  \\\n",
       "0  18674  20210412154247   2021-04-13   \n",
       "1  23197  20210412154247   2021-04-14   \n",
       "2  32711  20210412154247   2021-04-14   \n",
       "3  34241  20210412154247   2021-04-15   \n",
       "4  34981  20210412154247   2021-04-15   \n",
       "\n",
       "                                                name  host_id  \\\n",
       "0    Huge flat for 8 people close to Sagrada Familia    71615   \n",
       "1  Forum CCIB DeLuxe★Spacious &Elegant ★Large Bal...    90417   \n",
       "2                   Sagrada Familia area - Còrsega 1   135703   \n",
       "3                   Private Double room - Plaza Real    73163   \n",
       "4               VIDRE HOME PLAZA REAL on LAS RAMBLAS    73163   \n",
       "\n",
       "          host_name  host_since host_response_time host_response_rate  \\\n",
       "0  Mireia And Maria  2010-01-19       within a day                50%   \n",
       "1    Etain (Marnie)  2010-03-09     within an hour               100%   \n",
       "2              Nick  2010-05-31     within an hour               100%   \n",
       "3            Andres  2010-01-24     within an hour                90%   \n",
       "4            Andres  2010-01-24     within an hour                90%   \n",
       "\n",
       "  host_acceptance_rate host_is_superhost  host_listings_count  \\\n",
       "0                  80%                 f                   34   \n",
       "1                  78%                 f                    2   \n",
       "2                 100%                 f                    5   \n",
       "3                  70%                 f                    3   \n",
       "4                  70%                 f                    3   \n",
       "\n",
       "  host_has_profile_pic host_identity_verified  latitude  longitude  \\\n",
       "0                    t                      t  41.40556    2.17262   \n",
       "1                    t                      t  41.41291    2.22063   \n",
       "2                    t                      t  41.40566    2.17015   \n",
       "3                    t                      t  41.38062    2.17517   \n",
       "4                    t                      t  41.37978    2.17623   \n",
       "\n",
       "               property_type        room_type  accommodates bathrooms_type  \\\n",
       "0           Entire apartment  Entire home/apt             8        private   \n",
       "1           Entire apartment  Entire home/apt             6        private   \n",
       "2           Entire apartment  Entire home/apt             6        private   \n",
       "3  Private room in apartment     Private room             2        private   \n",
       "4           Entire apartment  Entire home/apt             9        private   \n",
       "\n",
       "   bedrooms  beds                                          amenities  price  \\\n",
       "0         3     6  [\"Air conditioning\", \"Host greets you\", \"Essen...  157.0   \n",
       "1         3     5  [\"High chair\", \"Washer\", \"Refrigerator\", \"Sham...  220.0   \n",
       "2         2     3  [\"High chair\", \"Washer\", \"Refrigerator\", \"Sham...  144.0   \n",
       "3         1     1  [\"Dishwasher\", \"Air conditioning\", \"Oven\", \"Wi...   50.0   \n",
       "4         4     6  [\"High chair\", \"Washer\", \"Refrigerator\", \"Sham...  243.0   \n",
       "\n",
       "   minimum_nights  maximum_nights  availability_365  number_of_reviews  \\\n",
       "0               1            1125                27                 21   \n",
       "1               3             300               359                 52   \n",
       "2               2              31                 0                 63   \n",
       "3              30             240                 0                  8   \n",
       "4               4             365               114                149   \n",
       "\n",
       "  first_review last_review  review_scores_rating  review_scores_accuracy  \\\n",
       "0   2013-05-27  2019-11-01                    88                       9   \n",
       "1   2011-03-15  2019-12-15                    95                      10   \n",
       "2   2011-07-17  2020-02-22                    86                       9   \n",
       "3   2010-07-10  2013-07-15                    68                       8   \n",
       "4   2010-10-03  2020-03-11                    91                      10   \n",
       "\n",
       "   review_scores_cleanliness  review_scores_checkin  \\\n",
       "0                         10                     10   \n",
       "1                         10                     10   \n",
       "2                          9                     10   \n",
       "3                          8                      7   \n",
       "4                          9                     10   \n",
       "\n",
       "   review_scores_communication  review_scores_location  review_scores_value  \\\n",
       "0                           10                      10                    9   \n",
       "1                           10                       9                    9   \n",
       "2                           10                      10                    9   \n",
       "3                            9                       8                    7   \n",
       "4                           10                      10                    9   \n",
       "\n",
       "  instant_bookable  reviews_per_month       city     region country  bathrooms  \n",
       "0                t               0.22  Barcelona  Catalonia   Spain        2.0  \n",
       "1                f               0.42  Barcelona  Catalonia   Spain        2.0  \n",
       "2                t               0.53  Barcelona  Catalonia   Spain        1.5  \n",
       "3                f               0.06  Barcelona  Catalonia   Spain        1.0  \n",
       "4                f               1.16  Barcelona  Catalonia   Spain        3.0  "
      ],
      "text/html": "<div>\n<style scoped>\n    .dataframe tbody tr th:only-of-type {\n        vertical-align: middle;\n    }\n\n    .dataframe tbody tr th {\n        vertical-align: top;\n    }\n\n    .dataframe thead th {\n        text-align: right;\n    }\n</style>\n<table border=\"1\" class=\"dataframe\">\n  <thead>\n    <tr style=\"text-align: right;\">\n      <th></th>\n      <th>id</th>\n      <th>scrape_id</th>\n      <th>last_scraped</th>\n      <th>name</th>\n      <th>host_id</th>\n      <th>host_name</th>\n      <th>host_since</th>\n      <th>host_response_time</th>\n      <th>host_response_rate</th>\n      <th>host_acceptance_rate</th>\n      <th>host_is_superhost</th>\n      <th>host_listings_count</th>\n      <th>host_has_profile_pic</th>\n      <th>host_identity_verified</th>\n      <th>latitude</th>\n      <th>longitude</th>\n      <th>property_type</th>\n      <th>room_type</th>\n      <th>accommodates</th>\n      <th>bathrooms_type</th>\n      <th>bedrooms</th>\n      <th>beds</th>\n      <th>amenities</th>\n      <th>price</th>\n      <th>minimum_nights</th>\n      <th>maximum_nights</th>\n      <th>availability_365</th>\n      <th>number_of_reviews</th>\n      <th>first_review</th>\n      <th>last_review</th>\n      <th>review_scores_rating</th>\n      <th>review_scores_accuracy</th>\n      <th>review_scores_cleanliness</th>\n      <th>review_scores_checkin</th>\n      <th>review_scores_communication</th>\n      <th>review_scores_location</th>\n      <th>review_scores_value</th>\n      <th>instant_bookable</th>\n      <th>reviews_per_month</th>\n      <th>city</th>\n      <th>region</th>\n      <th>country</th>\n      <th>bathrooms</th>\n    </tr>\n  </thead>\n  <tbody>\n    <tr>\n      <th>0</th>\n      <td>18674</td>\n      <td>20210412154247</td>\n      <td>2021-04-13</td>\n      <td>Huge flat for 8 people close to Sagrada Familia</td>\n      <td>71615</td>\n      <td>Mireia And Maria</td>\n      <td>2010-01-19</td>\n      <td>within a day</td>\n      <td>50%</td>\n      <td>80%</td>\n      <td>f</td>\n      <td>34</td>\n      <td>t</td>\n      <td>t</td>\n      <td>41.40556</td>\n      <td>2.17262</td>\n      <td>Entire apartment</td>\n      <td>Entire home/apt</td>\n      <td>8</td>\n      <td>private</td>\n      <td>3</td>\n      <td>6</td>\n      <td>[\"Air conditioning\", \"Host greets you\", \"Essen...</td>\n      <td>157.0</td>\n      <td>1</td>\n      <td>1125</td>\n      <td>27</td>\n      <td>21</td>\n      <td>2013-05-27</td>\n      <td>2019-11-01</td>\n      <td>88</td>\n      <td>9</td>\n      <td>10</td>\n      <td>10</td>\n      <td>10</td>\n      <td>10</td>\n      <td>9</td>\n      <td>t</td>\n      <td>0.22</td>\n      <td>Barcelona</td>\n      <td>Catalonia</td>\n      <td>Spain</td>\n      <td>2.0</td>\n    </tr>\n    <tr>\n      <th>1</th>\n      <td>23197</td>\n      <td>20210412154247</td>\n      <td>2021-04-14</td>\n      <td>Forum CCIB DeLuxe★Spacious &amp;Elegant ★Large Bal...</td>\n      <td>90417</td>\n      <td>Etain (Marnie)</td>\n      <td>2010-03-09</td>\n      <td>within an hour</td>\n      <td>100%</td>\n      <td>78%</td>\n      <td>f</td>\n      <td>2</td>\n      <td>t</td>\n      <td>t</td>\n      <td>41.41291</td>\n      <td>2.22063</td>\n      <td>Entire apartment</td>\n      <td>Entire home/apt</td>\n      <td>6</td>\n      <td>private</td>\n      <td>3</td>\n      <td>5</td>\n      <td>[\"High chair\", \"Washer\", \"Refrigerator\", \"Sham...</td>\n      <td>220.0</td>\n      <td>3</td>\n      <td>300</td>\n      <td>359</td>\n      <td>52</td>\n      <td>2011-03-15</td>\n      <td>2019-12-15</td>\n      <td>95</td>\n      <td>10</td>\n      <td>10</td>\n      <td>10</td>\n      <td>10</td>\n      <td>9</td>\n      <td>9</td>\n      <td>f</td>\n      <td>0.42</td>\n      <td>Barcelona</td>\n      <td>Catalonia</td>\n      <td>Spain</td>\n      <td>2.0</td>\n    </tr>\n    <tr>\n      <th>2</th>\n      <td>32711</td>\n      <td>20210412154247</td>\n      <td>2021-04-14</td>\n      <td>Sagrada Familia area - Còrsega 1</td>\n      <td>135703</td>\n      <td>Nick</td>\n      <td>2010-05-31</td>\n      <td>within an hour</td>\n      <td>100%</td>\n      <td>100%</td>\n      <td>f</td>\n      <td>5</td>\n      <td>t</td>\n      <td>t</td>\n      <td>41.40566</td>\n      <td>2.17015</td>\n      <td>Entire apartment</td>\n      <td>Entire home/apt</td>\n      <td>6</td>\n      <td>private</td>\n      <td>2</td>\n      <td>3</td>\n      <td>[\"High chair\", \"Washer\", \"Refrigerator\", \"Sham...</td>\n      <td>144.0</td>\n      <td>2</td>\n      <td>31</td>\n      <td>0</td>\n      <td>63</td>\n      <td>2011-07-17</td>\n      <td>2020-02-22</td>\n      <td>86</td>\n      <td>9</td>\n      <td>9</td>\n      <td>10</td>\n      <td>10</td>\n      <td>10</td>\n      <td>9</td>\n      <td>t</td>\n      <td>0.53</td>\n      <td>Barcelona</td>\n      <td>Catalonia</td>\n      <td>Spain</td>\n      <td>1.5</td>\n    </tr>\n    <tr>\n      <th>3</th>\n      <td>34241</td>\n      <td>20210412154247</td>\n      <td>2021-04-15</td>\n      <td>Private Double room - Plaza Real</td>\n      <td>73163</td>\n      <td>Andres</td>\n      <td>2010-01-24</td>\n      <td>within an hour</td>\n      <td>90%</td>\n      <td>70%</td>\n      <td>f</td>\n      <td>3</td>\n      <td>t</td>\n      <td>t</td>\n      <td>41.38062</td>\n      <td>2.17517</td>\n      <td>Private room in apartment</td>\n      <td>Private room</td>\n      <td>2</td>\n      <td>private</td>\n      <td>1</td>\n      <td>1</td>\n      <td>[\"Dishwasher\", \"Air conditioning\", \"Oven\", \"Wi...</td>\n      <td>50.0</td>\n      <td>30</td>\n      <td>240</td>\n      <td>0</td>\n      <td>8</td>\n      <td>2010-07-10</td>\n      <td>2013-07-15</td>\n      <td>68</td>\n      <td>8</td>\n      <td>8</td>\n      <td>7</td>\n      <td>9</td>\n      <td>8</td>\n      <td>7</td>\n      <td>f</td>\n      <td>0.06</td>\n      <td>Barcelona</td>\n      <td>Catalonia</td>\n      <td>Spain</td>\n      <td>1.0</td>\n    </tr>\n    <tr>\n      <th>4</th>\n      <td>34981</td>\n      <td>20210412154247</td>\n      <td>2021-04-15</td>\n      <td>VIDRE HOME PLAZA REAL on LAS RAMBLAS</td>\n      <td>73163</td>\n      <td>Andres</td>\n      <td>2010-01-24</td>\n      <td>within an hour</td>\n      <td>90%</td>\n      <td>70%</td>\n      <td>f</td>\n      <td>3</td>\n      <td>t</td>\n      <td>t</td>\n      <td>41.37978</td>\n      <td>2.17623</td>\n      <td>Entire apartment</td>\n      <td>Entire home/apt</td>\n      <td>9</td>\n      <td>private</td>\n      <td>4</td>\n      <td>6</td>\n      <td>[\"High chair\", \"Washer\", \"Refrigerator\", \"Sham...</td>\n      <td>243.0</td>\n      <td>4</td>\n      <td>365</td>\n      <td>114</td>\n      <td>149</td>\n      <td>2010-10-03</td>\n      <td>2020-03-11</td>\n      <td>91</td>\n      <td>10</td>\n      <td>9</td>\n      <td>10</td>\n      <td>10</td>\n      <td>10</td>\n      <td>9</td>\n      <td>f</td>\n      <td>1.16</td>\n      <td>Barcelona</td>\n      <td>Catalonia</td>\n      <td>Spain</td>\n      <td>3.0</td>\n    </tr>\n  </tbody>\n</table>\n</div>"
     },
     "metadata": {},
     "execution_count": 11
    }
   ],
   "source": [
    "airbnb.head()"
   ]
  },
  {
   "cell_type": "code",
   "execution_count": 12,
   "metadata": {},
   "outputs": [
    {
     "output_type": "execute_result",
     "data": {
      "text/plain": [
       "(188437, 43)"
      ]
     },
     "metadata": {},
     "execution_count": 12
    }
   ],
   "source": [
    "airbnb.shape"
   ]
  },
  {
   "cell_type": "code",
   "execution_count": 14,
   "metadata": {},
   "outputs": [
    {
     "output_type": "execute_result",
     "data": {
      "text/plain": [
       "(188437, 51)"
      ]
     },
     "metadata": {},
     "execution_count": 14
    }
   ],
   "source": [
    "pd.merge(airbnb, eurostat, how='inner', on=None, left_on=['region', 'country'], right_on=['Region', 'Country']).shape"
   ]
  },
  {
   "cell_type": "code",
   "execution_count": null,
   "metadata": {},
   "outputs": [],
   "source": []
  }
 ],
 "metadata": {
  "kernelspec": {
   "name": "python385jvsc74a57bd09b0c994d129f48841e1807961366adecbd818aaae02f59df138c330447f8d64f",
   "display_name": "Python 3.8.5 64-bit ('base': conda)"
  },
  "language_info": {
   "codemirror_mode": {
    "name": "ipython",
    "version": 3
   },
   "file_extension": ".py",
   "mimetype": "text/x-python",
   "name": "python",
   "nbconvert_exporter": "python",
   "pygments_lexer": "ipython3",
   "version": "3.8.5"
  }
 },
 "nbformat": 4,
 "nbformat_minor": 4
}